{
 "cells": [
  {
   "cell_type": "markdown",
   "id": "ba381fc5",
   "metadata": {},
   "source": [
    "![](imagenes/UC_FMRI.jpg)"
   ]
  },
  {
   "cell_type": "markdown",
   "id": "8f42c716",
   "metadata": {},
   "source": [
    "---\n",
    "\n",
    "***Andres Eduardo Aracena Rangel***\n",
    "\n",
    "---\n",
    "\n",
    "Acronimos\n",
    "\n",
    "- wm = white matter (materia blanca)\n",
    "\n",
    "- csf = cerebrospinal fluid (liquido cefalorraquídeo)"
   ]
  },
  {
   "cell_type": "markdown",
   "id": "9571e057",
   "metadata": {},
   "source": [
    "# Mascara del liquido cefalorraquídeo\n",
    "\n",
    "En el notebook ***visualizacion_mascara.ipynb*** se pudo demostrar como en principio podemos extraer una mascara del liquido cefalorraquídeo trabajando con las imagenes/matrices obtenidas del ***reconall*** de freesurfer; con los datos de ***wm.mgz*** y ***wm.seg.mgz***.\n",
    "\n",
    "En esta oportunidad, vamos a extraer el volumen de la mascara del liquido cefalorraquídeo (mask_csf).\n",
    "\n",
    "Recordemos que la ubicación de la carpeta de freesurfer"
   ]
  },
  {
   "cell_type": "code",
   "execution_count": 67,
   "id": "5cd0b9df",
   "metadata": {
    "scrolled": true
   },
   "outputs": [
    {
     "name": "stdout",
     "output_type": "stream",
     "text": [
      "antsdn.brain.mgz                         norm.mgz\r\n",
      "aparc.a2009s+aseg.mgz                    nu.mgz\r\n",
      "aparc+aseg.mgz                           \u001b[0m\u001b[01;34morig\u001b[0m/\r\n",
      "aparc.DKTatlas+aseg.mgz                  orig.mgz\r\n",
      "aseg.auto.mgz                            orig_nu.mgz\r\n",
      "aseg.auto_noCCseg.label_intensities.txt  rawavg.mgz\r\n",
      "aseg.auto_noCCseg.mgz                    rh.ribbon.mgz\r\n",
      "aseg.mgz                                 ribbon.mgz\r\n",
      "aseg.presurf.hypos.mgz                   segment.dat\r\n",
      "aseg.presurf.mgz                         surface.defects.mgz\r\n",
      "brain.finalsurfs.mgz                     T1.mgz\r\n",
      "brainmask.auto.mgz                       talairach.label_intensities.txt\r\n",
      "brainmask.mgz                            talairach.log\r\n",
      "brain.mgz                                talairach_with_skull.log\r\n",
      "ctrl_pts.mgz                             \u001b[01;34mtransforms\u001b[0m/\r\n",
      "filled.auto.mgz                          wm.asegedit.mgz\r\n",
      "filled.mgz                               wm.mgz\r\n",
      "lh.ribbon.mgz                            wmparc.mgz\r\n",
      "mri_nu_correct.mni.log                   wm.seg.mgz\r\n",
      "mri_nu_correct.mni.log.bak\r\n"
     ]
    }
   ],
   "source": [
    "%ls /home/aracena/thesis_practica/tips_nibabel/3_recon-all_freesurfer/output/freesurfer/sub-01/mri/"
   ]
  },
  {
   "cell_type": "markdown",
   "id": "d21cc82e",
   "metadata": {},
   "source": [
    "## Importamos librerias"
   ]
  },
  {
   "cell_type": "code",
   "execution_count": 68,
   "id": "b7f0a9ca",
   "metadata": {},
   "outputs": [],
   "source": [
    "import time # medir el tiempo de ejecución de nuestros programas\n",
    "start = time.process_time()\n",
    "inicio = time.time()"
   ]
  },
  {
   "cell_type": "code",
   "execution_count": 69,
   "id": "8b1c73ba",
   "metadata": {},
   "outputs": [],
   "source": [
    "import os # El módulo os nos permite acceder a funcionalidades dependientes del Sistema Operativo\n",
    "from os.path import join as opj # Este método concatena varios componentes de ruta con exactamente un separador de directorio(‘/’)\n",
    "from matplotlib.figure import Figure\n",
    "import nibabel as nib\n",
    "import numpy as np\n",
    "import matplotlib.pyplot as plt\n",
    "import scipy.ndimage as ndimage #para rotar img"
   ]
  },
  {
   "cell_type": "markdown",
   "id": "a2bebfc8",
   "metadata": {},
   "source": [
    "## Definimos funciones"
   ]
  },
  {
   "cell_type": "code",
   "execution_count": 70,
   "id": "31cd0dad",
   "metadata": {},
   "outputs": [],
   "source": [
    "# Creamos una funcion para ingresar el corte/slice que se desea extraer\n",
    "# Verificamos que el usuario ingrese un numero natural y que se encuentre entre los \n",
    "    # cortes de la imagen cargada\n",
    "    \n",
    "def ingresar_corte(name, v_ini, v_fin):\n",
    "    while True:\n",
    "        print('\\n------------------------------------------\\n')\n",
    "        print('La imagen', name, 'posee', vol_fin, 'cortes/slices', '\\n',\n",
    "             'ingrese un valor entre 0 y', vol_fin)\n",
    "        print('\\n------------------------------------------')\n",
    "        co_vo =  input('\\n Ingrese el corte/slice que desea visualizar: ')\n",
    "        ver_num = co_vo.isnumeric()\n",
    "        if ver_num == True: \n",
    "            co_vo = int(co_vo) # covertimos a int para poder usar en sentencias\n",
    "            if v_ini <= co_vo <= v_fin: # que se encuentre los volumenes\n",
    "                print('\\n------------------------------------------\\n')\n",
    "                print('El corte/slice', co_vo, 'sera visualizado')\n",
    "                print('\\n------------------------------------------')\n",
    "                return co_vo\n",
    "                break\n",
    "            else:\n",
    "                print('\\nERROR. Se debe ingresar un numero natural y',\n",
    "                          '\\n entre la cantidad de cortes/slices')\n",
    "        else:\n",
    "            print('\\nERROR. Se debe ingresar un numero natural y',\n",
    "                          '\\n entre la cantidad de cortes/slices')"
   ]
  },
  {
   "cell_type": "markdown",
   "id": "be93279b",
   "metadata": {},
   "source": [
    "## Definimos parámetros"
   ]
  },
  {
   "cell_type": "code",
   "execution_count": 71,
   "id": "b3fc7405",
   "metadata": {},
   "outputs": [
    {
     "data": {
      "text/plain": [
       "0"
      ]
     },
     "execution_count": 71,
     "metadata": {},
     "output_type": "execute_result"
    }
   ],
   "source": [
    "# Ruta del directorio del proyecto\n",
    "experiment_dir = '/home/aracena/thesis_practica/tips_nibabel/' \n",
    "\n",
    "# Ruta de resultados de recon-all de freesurfer con segmentaciones\n",
    "freesurfer_dir = opj(experiment_dir,'3_recon-all_freesurfer','output','freesurfer','sub-01','mri')\n",
    "\n",
    "'''\n",
    "Ruta de la imagen segmentada de la materia blanca + liquido cefalorraquídeo\n",
    "'''\n",
    "path_wm_csf = opj(freesurfer_dir,'wm.mgz')\n",
    "\n",
    "'''\n",
    "Ruta de la imagen segmentada solo materia blanca\n",
    "'''\n",
    "path_wm = opj(freesurfer_dir,'wm.seg.mgz')\n",
    "\n",
    "'''\n",
    "Ruta donde se guardaran los resultados\n",
    "'''\n",
    "output_dir = opj(experiment_dir,'5_mascara_csf','output')\n",
    "\n",
    "# Crear la carpeta de salida\n",
    "os.system('mkdir -p %s'%output_dir)"
   ]
  },
  {
   "cell_type": "markdown",
   "id": "b93c1834",
   "metadata": {},
   "source": [
    "## Cargamos las imagenes y creamos los objetos mask_X"
   ]
  },
  {
   "cell_type": "code",
   "execution_count": 72,
   "id": "b97fcf21",
   "metadata": {},
   "outputs": [
    {
     "name": "stdout",
     "output_type": "stream",
     "text": [
      "Forma de la matriz mask_wm_csf: \n",
      " (256, 256, 256) ------> 3D \n",
      "\n",
      "Forma de la matriz mask_wm: \n",
      " (256, 256, 256) ------> 3D \n",
      "\n"
     ]
    }
   ],
   "source": [
    "mask_wm_csf = nib.load(path_wm_csf)\n",
    "\n",
    "mask_wm = nib.load(path_wm)\n",
    "\n",
    "\n",
    "'''\n",
    "Atributos\n",
    "'''\n",
    "\n",
    "# Forma de la Matriz\n",
    "form_mask_wm_csf = mask_wm_csf.shape # Atributo --> Forma Matriz\n",
    "print('Forma de la matriz mask_wm_csf:', '\\n', form_mask_wm_csf, '------>', '3D', '\\n')\n",
    "\n",
    "form_mask_wm = mask_wm.shape # Atributo --> Forma Matriz\n",
    "print('Forma de la matriz mask_wm:', '\\n', form_mask_wm, '------>', '3D', '\\n')"
   ]
  },
  {
   "cell_type": "markdown",
   "id": "6ea2e108",
   "metadata": {},
   "source": [
    "## Cargamos datos de las imagenes"
   ]
  },
  {
   "cell_type": "code",
   "execution_count": 73,
   "id": "53375890",
   "metadata": {},
   "outputs": [
    {
     "name": "stdout",
     "output_type": "stream",
     "text": [
      "\n",
      "-----------------------------\n",
      "\n",
      "Numero de elementos \n",
      "\n",
      "16777216 <--- mask_wm_csf\n",
      "16777216 <--- mask_wm\n",
      "\n",
      "-----------------------------\n",
      "\n",
      "Tipo de datos \n",
      "\n",
      "float64 <--- mask_wm_csf\n",
      "float64 <--- mask_wm\n",
      "\n",
      "-----------------------------\n",
      "\n",
      "Valor minimo de las mascaras \n",
      "\n",
      "0.0 <--- mask_wm_csf\n",
      "0.0 <--- mask_wm\n",
      "\n",
      "-----------------------------\n",
      "\n",
      "Valor maximo de las mascaras \n",
      "\n",
      "250.0 <--- mask_wm_csf\n",
      "230.0 <--- mask_wm\n"
     ]
    }
   ],
   "source": [
    "datos_mask_wm_csf = mask_wm_csf.get_fdata()\n",
    "datos_mask_wm = mask_wm.get_fdata()\n",
    "\n",
    "'''\n",
    "Algunos atributos de interes\n",
    "'''\n",
    "\n",
    "# Numero de elementos\n",
    "linea = '\\n-----------------------------\\n'\n",
    "print(linea)\n",
    "print('Numero de elementos \\n')\n",
    "print(datos_mask_wm_csf.size, '<--- mask_wm_csf')\n",
    "print(datos_mask_wm.size, '<--- mask_wm')\n",
    "print(linea)\n",
    "\n",
    "# Tipo de datos de las mascaras\n",
    "print('Tipo de datos \\n')\n",
    "print(datos_mask_wm_csf.dtype, '<--- mask_wm_csf')\n",
    "print(datos_mask_wm.dtype, '<--- mask_wm')\n",
    "print(linea)\n",
    "\n",
    "# Valor minimo de las mascaras\n",
    "print('Valor minimo de las mascaras \\n')\n",
    "print(np.amin(datos_mask_wm_csf), '<--- mask_wm_csf')\n",
    "print(np.amin(datos_mask_wm), '<--- mask_wm')\n",
    "print(linea)\n",
    "\n",
    "# Valor maximo de las mascaras\n",
    "print('Valor maximo de las mascaras \\n')\n",
    "print(np.amax(datos_mask_wm_csf), '<--- mask_wm_csf')\n",
    "print(np.amax(datos_mask_wm), '<--- mask_wm')"
   ]
  },
  {
   "cell_type": "markdown",
   "id": "07077730",
   "metadata": {},
   "source": [
    "## Atributos de mask_wm_csf para copiar en mask_csf"
   ]
  },
  {
   "cell_type": "code",
   "execution_count": 74,
   "id": "bb8269ca",
   "metadata": {
    "run_control": {
     "marked": true
    }
   },
   "outputs": [],
   "source": [
    "'''\n",
    "Los siguientes atributos seran guardados en sus respectivas variables\n",
    "para poder ser anexadas al guardar la mascara mask_csf en formato nifti\n",
    "'''\n",
    "\n",
    "affine = mask_wm_csf.affine\n",
    "header = mask_wm_csf.header"
   ]
  },
  {
   "cell_type": "markdown",
   "id": "fa3884f6",
   "metadata": {},
   "source": [
    "## Extraemos datos de la mascara de csf"
   ]
  },
  {
   "cell_type": "code",
   "execution_count": 75,
   "id": "fff82fa4",
   "metadata": {},
   "outputs": [
    {
     "name": "stdout",
     "output_type": "stream",
     "text": [
      "\n",
      "-----------------------------\n",
      "\n",
      "Valor minimo y maximo de la mascara csf \n",
      "\n",
      "0 <--- minimo de mask_csf\n",
      "250 <--- maximo de mask_csf\n",
      "\n",
      "-----------------------------\n",
      "\n"
     ]
    }
   ],
   "source": [
    "'''\n",
    "Ya que mask_csf y mask_wm_csf son extraidas de la misma imagen anatomica en el\n",
    "proceso de freesurfer, poseen la misma forma. Basta con usar uno de los atributos\n",
    "de estas mascaras para trabajar\n",
    "'''\n",
    "\n",
    "i = form_mask_wm_csf[0]\n",
    "j = form_mask_wm_csf[1]\n",
    "k = form_mask_wm_csf[2]\n",
    "\n",
    "mask_csf = np.zeros((i,j,k),int)\n",
    "\n",
    "for k in range(form_mask_wm_csf[2]):\n",
    "    for i in range(form_mask_wm_csf[0]):\n",
    "        for j in range(form_mask_wm_csf[1]):\n",
    "            mask_csf[i,j,k] = datos_mask_wm_csf[i,j,k] - datos_mask_wm[i,j,k]\n",
    "            eva = mask_csf[i,j,k]\n",
    "            if eva < 0:\n",
    "                mask_csf[i,j,k] = 0\n",
    "            else:\n",
    "                mask_csf[i,j,k] = eva\n",
    "\n",
    "\n",
    "# Valor minimo y maximo de la mascara de csf\n",
    "print(linea)\n",
    "print('Valor minimo y maximo de la mascara csf \\n')\n",
    "print(np.amin(mask_csf), '<--- minimo de mask_csf')\n",
    "print(np.amax(mask_csf), '<--- maximo de mask_csf')\n",
    "print(linea)"
   ]
  },
  {
   "cell_type": "markdown",
   "id": "5ce3176a",
   "metadata": {},
   "source": [
    "## Binarización"
   ]
  },
  {
   "cell_type": "code",
   "execution_count": 76,
   "id": "eb427a99",
   "metadata": {},
   "outputs": [
    {
     "name": "stdout",
     "output_type": "stream",
     "text": [
      "\n",
      "-----------------------------\n",
      "\n",
      "Valor minimo y maximo de la mascara csf binarizada\n",
      "\n",
      "0 <--- minimo de mask_csf\n",
      "1 <--- maximo de mask_csf\n",
      "\n",
      "-----------------------------\n",
      "\n"
     ]
    }
   ],
   "source": [
    "for k in range(form_mask_wm_csf[2]):\n",
    "    for i in range(form_mask_wm_csf[0]):\n",
    "        for j in range(form_mask_wm_csf[1]):\n",
    "            eva = mask_csf[i,j,k]\n",
    "            if eva != 0:\n",
    "                mask_csf[i,j,k] = 1\n",
    "            else:\n",
    "                mask_csf[i,j,k] = eva\n",
    "            \n",
    "# Valor minimo y maximo de la mascara de csf\n",
    "print(linea)\n",
    "print('Valor minimo y maximo de la mascara csf binarizada\\n')\n",
    "print(np.amin(mask_csf), '<--- minimo de mask_csf')\n",
    "print(np.amax(mask_csf), '<--- maximo de mask_csf')\n",
    "print(linea)"
   ]
  },
  {
   "cell_type": "markdown",
   "id": "9ac22ffa",
   "metadata": {},
   "source": [
    "## Extraemos cortes de la mascara de csf"
   ]
  },
  {
   "cell_type": "code",
   "execution_count": 77,
   "id": "b9773acf",
   "metadata": {},
   "outputs": [
    {
     "name": "stdout",
     "output_type": "stream",
     "text": [
      "\n",
      "------------------------------------------\n",
      "\n",
      "La imagen mask_csf posee 256 cortes/slices \n",
      " ingrese un valor entre 0 y 256\n",
      "\n",
      "------------------------------------------\n",
      "\n",
      " Ingrese el corte/slice que desea visualizar: 115\n",
      "\n",
      "------------------------------------------\n",
      "\n",
      "El corte/slice 115 sera visualizado\n",
      "\n",
      "------------------------------------------\n"
     ]
    }
   ],
   "source": [
    "'''\n",
    "Le indicamos al usuario que ingrese el corte/slice que desea \n",
    "extraer del volumen seleccionado\n",
    "'''\n",
    "\n",
    "# Definimos los inputs de la funcion 'ingresar_corte'\n",
    "name = 'mask_csf'\n",
    "vol_in = 0 # volumen inicial --> v_ini\n",
    "vol_fin = form_mask_wm_csf[2] # volumen final --> v_fin\n",
    "\n",
    "# Usamos funcion\n",
    "cor_sel = ingresar_corte(name,vol_in,vol_fin)"
   ]
  },
  {
   "cell_type": "markdown",
   "id": "9b3132f2",
   "metadata": {},
   "source": [
    "## Visualizamos los cortes"
   ]
  },
  {
   "cell_type": "code",
   "execution_count": 78,
   "id": "4d49827a",
   "metadata": {},
   "outputs": [
    {
     "data": {
      "image/png": "[encoded data removed]",
      "text/plain": [
       "<Figure size 1080x1080 with 3 Axes>"
      ]
     },
     "metadata": {},
     "output_type": "display_data"
    }
   ],
   "source": [
    "'''\n",
    "corte coronal\n",
    "'''\n",
    "coro_csf = mask_csf[:, :,cor_sel]\n",
    "#rotada\n",
    "coro_csf_r = ndimage.rotate(coro_csf, -90, reshape=True)\n",
    "\n",
    "\n",
    "'''\n",
    "corte sagital\n",
    "'''\n",
    "sagi_csf = mask_csf[cor_sel,:, :]\n",
    "#rotada\n",
    "sagi_csf_r = ndimage.rotate(sagi_csf, 0, reshape=True)\n",
    "\n",
    "\n",
    "'''\n",
    "corte transversal\n",
    "'''\n",
    "tran_csf = mask_csf[:,cor_sel, :]\n",
    "#rotada\n",
    "tran_csf_r = ndimage.rotate(tran_csf, 90, reshape=True)\n",
    "\n",
    "\n",
    "'''\n",
    "Mostramos las imagenes\n",
    "'''\n",
    "\n",
    "fig = plt.figure(figsize=(15, 15))\n",
    "plt.subplot(3,1,1)\n",
    "plt.imshow(coro_csf_r,cmap='gray')\n",
    "plt.title('Mascara Liquido Cefalorraquideo \\n\\n coronal')\n",
    "plt.axis('off')\n",
    "plt.subplot(3,1,2)\n",
    "plt.imshow(sagi_csf_r,cmap='gray')\n",
    "plt.title('sagital')\n",
    "plt.axis('off')\n",
    "plt.subplot(3,1,3)\n",
    "plt.imshow(tran_csf_r,cmap='gray')\n",
    "plt.title('trasnversal')\n",
    "plt.axis('off')\n",
    "fig.patch.set_facecolor('xkcd:white')\n",
    "plt.show()"
   ]
  },
  {
   "cell_type": "markdown",
   "id": "82840e86",
   "metadata": {},
   "source": [
    "## Guardamos la mask_csf en formato nifti"
   ]
  },
  {
   "cell_type": "code",
   "execution_count": 79,
   "id": "eb0c4073",
   "metadata": {},
   "outputs": [],
   "source": [
    "mask = nib.Nifti1Image(mask_csf, affine, header)\n",
    "nib.save(mask,opj(output_dir,'sub-01_mask_csf.mgz'))"
   ]
  },
  {
   "cell_type": "markdown",
   "id": "723b7628",
   "metadata": {},
   "source": [
    "## Tiempo de ejecución del codigo"
   ]
  },
  {
   "cell_type": "code",
   "execution_count": 80,
   "id": "7baf7875",
   "metadata": {},
   "outputs": [
    {
     "name": "stdout",
     "output_type": "stream",
     "text": [
      "-----------------------------\n",
      " tiempo de ejecución\n",
      " 45.51821804046631 seg\n",
      " -----------------------------\n",
      "\n",
      "---------------------------------------\n",
      " tiempo de ejecución del sistema y CPU\n",
      " 30.701917545 seg\n",
      " ---------------------------------------\n",
      "\n"
     ]
    }
   ],
   "source": [
    "fin = time.time()\n",
    "end = time.process_time()\n",
    "tiempo = fin - inicio\n",
    "tiempo2 = end - start\n",
    "\n",
    "print('-----------------------------\\n', \n",
    "      'tiempo de ejecución\\n', tiempo, 'seg\\n',\n",
    "     '-----------------------------\\n')\n",
    "print('---------------------------------------\\n', \n",
    "      'tiempo de ejecución del sistema y CPU\\n', tiempo2, 'seg\\n',\n",
    "     '---------------------------------------\\n')"
   ]
  },
  {
   "cell_type": "markdown",
   "id": "becc7479",
   "metadata": {},
   "source": [
    "# Comparamos mask_csf con y sin binarización"
   ]
  },
  {
   "cell_type": "code",
   "execution_count": 81,
   "id": "9ad40b64",
   "metadata": {},
   "outputs": [
    {
     "data": {
      "image/png": "[encoded data removed]",
      "text/plain": [
       "<Figure size 1080x1080 with 6 Axes>"
      ]
     },
     "metadata": {},
     "output_type": "display_data"
    }
   ],
   "source": [
    "'''\n",
    "De manera de comprobar la binarización, mostramos ambas imagenes\n",
    "'''\n",
    "# sin binarización - original\n",
    "mask_csf_ori = datos_mask_wm_csf - datos_mask_wm\n",
    "\n",
    "'''\n",
    "corte coronal ori\n",
    "'''\n",
    "coro_csf_ori = mask_csf_ori[:, :,cor_sel]\n",
    "#rotada\n",
    "coro_csf_ori_r = ndimage.rotate(coro_csf_ori, -90, reshape=True)\n",
    "\n",
    "\n",
    "'''\n",
    "corte sagital ori\n",
    "'''\n",
    "sagi_csf_ori = mask_csf_ori[cor_sel,:, :]\n",
    "#rotada\n",
    "sagi_csf_ori_r = ndimage.rotate(sagi_csf_ori, 0, reshape=True)\n",
    "\n",
    "'''\n",
    "corte transversal ori\n",
    "'''\n",
    "tran_csf_ori = mask_csf[:,cor_sel, :]\n",
    "#rotada\n",
    "tran_csf_ori_r = ndimage.rotate(tran_csf_ori, 90, reshape=True)\n",
    "\n",
    "'''\n",
    "Mostramos las imagenes\n",
    "'''\n",
    "\n",
    "fig = plt.figure(figsize=(15, 15))\n",
    "plt.subplot(3,2,1) ; plt.imshow(coro_csf_ori_r) \n",
    "plt.title('Mascara Liquido Cefalorraquideo \\n\\n coronal') ; plt.axis('off')\n",
    "plt.subplot(3,2,2) ; plt.imshow(coro_csf_r,cmap='gray') \n",
    "plt.title('Binarización \\n\\n coronal') ; plt.axis('off')\n",
    "plt.subplot(3,2,3) ; plt.imshow(sagi_csf_ori_r)\n",
    "plt.title('sagital') ; plt.axis('off')\n",
    "plt.subplot(3,2,4) ; plt.imshow(sagi_csf_r,cmap='gray')\n",
    "plt.title('sagital') ; plt.axis('off')\n",
    "plt.subplot(3,2,5) ; plt.imshow(tran_csf_ori_r)\n",
    "plt.title('trasnversal') ; plt.axis('off')\n",
    "plt.subplot(3,2,6) ; plt.imshow(tran_csf_r,cmap='gray')\n",
    "plt.title('trasnversal') ; plt.axis('off')\n",
    "fig.patch.set_facecolor('xkcd:white')\n",
    "plt.show()"
   ]
  },
  {
   "cell_type": "markdown",
   "id": "58eca330",
   "metadata": {},
   "source": [
    "# FIN"
   ]
  }
 ],
 "metadata": {
  "kernelspec": {
   "display_name": "Python 3 (ipykernel)",
   "language": "python",
   "name": "python3"
  },
  "language_info": {
   "codemirror_mode": {
    "name": "ipython",
    "version": 3
   },
   "file_extension": ".py",
   "mimetype": "text/x-python",
   "name": "python",
   "nbconvert_exporter": "python",
   "pygments_lexer": "ipython3",
   "version": "3.9.7"
  },
  "nbTranslate": {
   "displayLangs": [
    "*"
   ],
   "hotkey": "alt-t",
   "langInMainMenu": true,
   "sourceLang": "en",
   "targetLang": "fr",
   "useGoogleTranslate": true
  },
  "toc": {
   "base_numbering": 1,
   "nav_menu": {},
   "number_sections": true,
   "sideBar": true,
   "skip_h1_title": false,
   "title_cell": "Table of Contents",
   "title_sidebar": "Contents",
   "toc_cell": false,
   "toc_position": {},
   "toc_section_display": true,
   "toc_window_display": false
  },
  "varInspector": {
   "cols": {
    "lenName": 16,
    "lenType": 16,
    "lenVar": 40
   },
   "kernels_config": {
    "python": {
     "delete_cmd_postfix": "",
     "delete_cmd_prefix": "del ",
     "library": "var_list.py",
     "varRefreshCmd": "print(var_dic_list())"
    },
    "r": {
     "delete_cmd_postfix": ") ",
     "delete_cmd_prefix": "rm(",
     "library": "var_list.r",
     "varRefreshCmd": "cat(var_dic_list()) "
    }
   },
   "types_to_exclude": [
    "module",
    "function",
    "builtin_function_or_method",
    "instance",
    "_Feature"
   ],
   "window_display": false
  }
 },
 "nbformat": 4,
 "nbformat_minor": 5
}
