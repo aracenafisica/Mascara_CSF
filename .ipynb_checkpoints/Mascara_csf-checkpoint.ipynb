{
 "cells": [
  {
   "cell_type": "markdown",
   "id": "ba381fc5",
   "metadata": {},
   "source": [
    "![](imagenes/UC_FMRI.jpg)"
   ]
  },
  {
   "cell_type": "markdown",
   "id": "8f42c716",
   "metadata": {},
   "source": [
    "---\n",
    "\n",
    "***Andres Eduardo Aracena Rangel***\n",
    "\n",
    "---"
   ]
  },
  {
   "cell_type": "markdown",
   "id": "9571e057",
   "metadata": {},
   "source": [
    "# Mascara del liquido cefalorraquídeo\n",
    "\n",
    "En el notebook ***visualizacion_mascara.ipynb*** se pudo demostrar como en principio podemos extraer una mascara del liquido cefalorraquídeo trabajando con las imagenes/matrices obtenidas del ***reconall*** de freesurfer; con los datos de ***wm.mgz*** y ***wm.seg.mgz***.\n",
    "\n",
    "En esta oportunidad, vamos a extraer el volumen de la mascara del liquido cefalorraquídeo (mask_csf).\n",
    "\n",
    "Recordemos que la ubicación de la carpeta de freesurfer"
   ]
  },
  {
   "cell_type": "code",
   "execution_count": 32,
   "id": "5cd0b9df",
   "metadata": {
    "scrolled": true
   },
   "outputs": [
    {
     "name": "stdout",
     "output_type": "stream",
     "text": [
      "antsdn.brain.mgz                         norm.mgz\r\n",
      "aparc.a2009s+aseg.mgz                    nu.mgz\r\n",
      "aparc+aseg.mgz                           \u001b[0m\u001b[01;34morig\u001b[0m/\r\n",
      "aparc.DKTatlas+aseg.mgz                  orig.mgz\r\n",
      "aseg.auto.mgz                            orig_nu.mgz\r\n",
      "aseg.auto_noCCseg.label_intensities.txt  rawavg.mgz\r\n",
      "aseg.auto_noCCseg.mgz                    rh.ribbon.mgz\r\n",
      "aseg.mgz                                 ribbon.mgz\r\n",
      "aseg.presurf.hypos.mgz                   segment.dat\r\n",
      "aseg.presurf.mgz                         surface.defects.mgz\r\n",
      "brain.finalsurfs.mgz                     T1.mgz\r\n",
      "brainmask.auto.mgz                       talairach.label_intensities.txt\r\n",
      "brainmask.mgz                            talairach.log\r\n",
      "brain.mgz                                talairach_with_skull.log\r\n",
      "ctrl_pts.mgz                             \u001b[01;34mtransforms\u001b[0m/\r\n",
      "filled.auto.mgz                          wm.asegedit.mgz\r\n",
      "filled.mgz                               wm.mgz\r\n",
      "lh.ribbon.mgz                            wmparc.mgz\r\n",
      "mri_nu_correct.mni.log                   wm.seg.mgz\r\n",
      "mri_nu_correct.mni.log.bak\r\n"
     ]
    }
   ],
   "source": [
    "%ls /home/aracena/thesis_practica/tips_nibabel/3_recon-all_freesurfer/output/freesurfer/sub-01/mri/"
   ]
  },
  {
   "cell_type": "markdown",
   "id": "d21cc82e",
   "metadata": {},
   "source": [
    "## Importamos librerias"
   ]
  },
  {
   "cell_type": "code",
   "execution_count": 33,
   "id": "b7f0a9ca",
   "metadata": {},
   "outputs": [],
   "source": [
    "import time # medir el tiempo de ejecución de nuestros programas\n",
    "start = time.process_time()\n",
    "inicio = time.time()"
   ]
  },
  {
   "cell_type": "code",
   "execution_count": 34,
   "id": "8b1c73ba",
   "metadata": {},
   "outputs": [],
   "source": [
    "import os # El módulo os nos permite acceder a funcionalidades dependientes del Sistema Operativo\n",
    "from os.path import join as opj # Este método concatena varios componentes de ruta con exactamente un separador de directorio(‘/’)\n",
    "from matplotlib.figure import Figure\n",
    "import nibabel as nib\n",
    "import numpy as np\n",
    "import matplotlib.pyplot as plt\n",
    "import scipy.ndimage as ndimage #para rotar img"
   ]
  },
  {
   "cell_type": "markdown",
   "id": "a2bebfc8",
   "metadata": {},
   "source": [
    "## Definimos funciones"
   ]
  },
  {
   "cell_type": "code",
   "execution_count": 35,
   "id": "31cd0dad",
   "metadata": {},
   "outputs": [],
   "source": [
    "# Creamos una funcion para ingresar el corte/slice que se desea extraer\n",
    "# Verificamos que el usuario ingrese un numero natural y que se encuentre entre los \n",
    "    # cortes de la imagen cargada\n",
    "    \n",
    "def ingresar_corte(name, v_ini, v_fin):\n",
    "    while True:\n",
    "        print('\\n------------------------------------------\\n')\n",
    "        print('La imagen', name, 'posee', vol_fin, 'cortes/slices', '\\n',\n",
    "             'ingrese un valor entre 0 y', vol_fin)\n",
    "        print('\\n------------------------------------------')\n",
    "        co_vo =  input('\\n Ingrese el corte/slice que desea visualizar: ')\n",
    "        ver_num = co_vo.isnumeric()\n",
    "        if ver_num == True: \n",
    "            co_vo = int(co_vo) # covertimos a int para poder usar en sentencias\n",
    "            if v_ini <= co_vo <= v_fin: # que se encuentre los volumenes\n",
    "                print('\\n------------------------------------------\\n')\n",
    "                print('El corte/slice', co_vo, 'sera visualizado')\n",
    "                print('\\n------------------------------------------')\n",
    "                return co_vo\n",
    "                break\n",
    "            else:\n",
    "                print('\\nERROR. Se debe ingresar un numero natural y',\n",
    "                          '\\n entre la cantidad de cortes/slices')\n",
    "        else:\n",
    "            print('\\nERROR. Se debe ingresar un numero natural y',\n",
    "                          '\\n entre la cantidad de cortes/slices')"
   ]
  },
  {
   "cell_type": "markdown",
   "id": "be93279b",
   "metadata": {},
   "source": [
    "## Definimos parámetros"
   ]
  },
  {
   "cell_type": "code",
   "execution_count": 36,
   "id": "b3fc7405",
   "metadata": {},
   "outputs": [
    {
     "data": {
      "text/plain": [
       "0"
      ]
     },
     "execution_count": 36,
     "metadata": {},
     "output_type": "execute_result"
    }
   ],
   "source": [
    "# Ruta del directorio del proyecto\n",
    "experiment_dir = '/home/aracena/thesis_practica/tips_nibabel/' \n",
    "\n",
    "# Ruta de resultados de recon-all de freesurfer con segmentaciones\n",
    "freesurfer_dir = opj(experiment_dir,'3_recon-all_freesurfer','output','freesurfer','sub-01','mri')\n",
    "\n",
    "'''\n",
    "Ruta de la imagen segmentada de la materia blanca + liquido cefalorraquídeo\n",
    "'''\n",
    "path_wm_csf = opj(freesurfer_dir,'wm.mgz')\n",
    "\n",
    "'''\n",
    "Ruta de la imagen segmentada solo materia blanca\n",
    "'''\n",
    "path_wm = opj(freesurfer_dir,'wm.seg.mgz')\n",
    "\n",
    "'''\n",
    "Ruta donde se guardaran los resultados\n",
    "'''\n",
    "output_dir = opj(experiment_dir,'5_mascara_csf','output')\n",
    "\n",
    "# Crear la carpeta de salida\n",
    "os.system('mkdir -p %s'%output_dir)"
   ]
  },
  {
   "cell_type": "markdown",
   "id": "b93c1834",
   "metadata": {},
   "source": [
    "## Cargamos las imagenes y creamos los objetos mask_X"
   ]
  },
  {
   "cell_type": "code",
   "execution_count": 37,
   "id": "b97fcf21",
   "metadata": {},
   "outputs": [
    {
     "name": "stdout",
     "output_type": "stream",
     "text": [
      "Forma de la matriz mask_wm_csf: \n",
      " (256, 256, 256) ------> 3D \n",
      "\n",
      "Forma de la matriz mask_wm: \n",
      " (256, 256, 256) ------> 3D \n",
      "\n"
     ]
    }
   ],
   "source": [
    "mask_wm_csf = nib.load(path_wm_csf)\n",
    "\n",
    "mask_wm = nib.load(path_wm)\n",
    "\n",
    "\n",
    "'''\n",
    "Atributos\n",
    "'''\n",
    "\n",
    "# Forma de la Matriz\n",
    "form_mask_wm_csf = mask_wm_csf.shape # Atributo --> Forma Matriz\n",
    "print('Forma de la matriz mask_wm_csf:', '\\n', form_mask_wm_csf, '------>', '3D', '\\n')\n",
    "\n",
    "form_mask_wm = mask_wm.shape # Atributo --> Forma Matriz\n",
    "print('Forma de la matriz mask_wm:', '\\n', form_mask_wm, '------>', '3D', '\\n')"
   ]
  },
  {
   "cell_type": "markdown",
   "id": "6ea2e108",
   "metadata": {},
   "source": [
    "## Cargamos datos de las imagenes"
   ]
  },
  {
   "cell_type": "code",
   "execution_count": 38,
   "id": "53375890",
   "metadata": {},
   "outputs": [
    {
     "name": "stdout",
     "output_type": "stream",
     "text": [
      "Numero de elementos de la mask_wm_csf: \n",
      " 16777216 \n",
      "\n",
      "Numero de elementos de la mask_wm: \n",
      " 16777216 \n",
      "\n",
      "float64\n",
      "float64\n",
      "0.0\n",
      "250.0\n",
      "0.0\n",
      "230.0\n"
     ]
    }
   ],
   "source": [
    "datos_mask_wm_csf = mask_wm_csf.get_fdata()\n",
    "datos_mask_wm = mask_wm.get_fdata()\n",
    "\n",
    "\n",
    "# Numero de elementos\n",
    "cant_wm_csf = datos_mask_wm_csf.size # Atributo np --> Numero de elementos Matriz\n",
    "print('Numero de elementos de la mask_wm_csf:', '\\n', cant_wm_csf, '\\n')\n",
    "\n",
    "cant_wm = datos_mask_wm.size # Atributo np --> Numero de elementos Matriz\n",
    "print('Numero de elementos de la mask_wm:', '\\n', cant_wm, '\\n')\n",
    "\n",
    "\n",
    "#\n",
    "print(datos_mask_wm.dtype)\n",
    "#\n",
    "print(datos_mask_wm_csf.dtype)\n",
    "#\n",
    "print(np.amin(datos_mask_wm_csf))\n",
    "print(np.amax(datos_mask_wm_csf))\n",
    "#\n",
    "print(np.amin(datos_mask_wm))\n",
    "print(np.amax(datos_mask_wm))"
   ]
  },
  {
   "cell_type": "markdown",
   "id": "fa3884f6",
   "metadata": {},
   "source": [
    "## Extraemos datos de la mascara de csf"
   ]
  },
  {
   "cell_type": "code",
   "execution_count": 39,
   "id": "8025f4ea",
   "metadata": {},
   "outputs": [],
   "source": [
    "# extraemos mascara de csf\n",
    "mask_csf = np.subtract(datos_mask_wm_csf,datos_mask_wm)\n",
    "\n",
    "#atributo\n",
    "form_mask_csf = mask_csf.shape\n",
    "#print(form_mask_csf)"
   ]
  },
  {
   "cell_type": "code",
   "execution_count": 40,
   "id": "fff82fa4",
   "metadata": {},
   "outputs": [
    {
     "name": "stdout",
     "output_type": "stream",
     "text": [
      "0.0\n",
      "250.0\n"
     ]
    }
   ],
   "source": [
    "i = 256\n",
    "j = 256\n",
    "k = 256\n",
    "\n",
    "for k in range(256):\n",
    "    for i in range(256):\n",
    "        for j in range(256):\n",
    "            mask_csf[i,j,k] = datos_mask_wm_csf[i,j,k] - datos_mask_wm[i,j,k]\n",
    "            eva = mask_csf[i,j,k]\n",
    "            if eva < 0:\n",
    "                mask_csf[i,j,k] = 0\n",
    "            else:\n",
    "                mask_csf[i,j,k] = eva\n",
    "            \n",
    "print(np.amin(mask_csf))  \n",
    "print(np.amax(mask_csf))"
   ]
  },
  {
   "cell_type": "markdown",
   "id": "5ce3176a",
   "metadata": {},
   "source": [
    "## Binarización"
   ]
  },
  {
   "cell_type": "code",
   "execution_count": 41,
   "id": "eb427a99",
   "metadata": {},
   "outputs": [
    {
     "name": "stdout",
     "output_type": "stream",
     "text": [
      "0.0\n",
      "1.0\n"
     ]
    }
   ],
   "source": [
    "i = 256\n",
    "j = 256\n",
    "k = 256\n",
    "\n",
    "for k in range(256):\n",
    "    for i in range(256):\n",
    "        for j in range(256):\n",
    "            eva = mask_csf[i,j,k]\n",
    "            if eva != 0:\n",
    "                mask_csf[i,j,k] = 1\n",
    "            else:\n",
    "                mask_csf[i,j,k] = eva\n",
    "            \n",
    "print(np.amin(mask_csf))  \n",
    "print(np.amax(mask_csf))"
   ]
  },
  {
   "cell_type": "markdown",
   "id": "9ac22ffa",
   "metadata": {},
   "source": [
    "## Extraemos cortes de la mascara de csf"
   ]
  },
  {
   "cell_type": "code",
   "execution_count": 42,
   "id": "b9773acf",
   "metadata": {},
   "outputs": [
    {
     "name": "stdout",
     "output_type": "stream",
     "text": [
      "\n",
      "------------------------------------------\n",
      "\n",
      "La imagen mask_csf posee 256 cortes/slices \n",
      " ingrese un valor entre 0 y 256\n",
      "\n",
      "------------------------------------------\n",
      "\n",
      " Ingrese el corte/slice que desea visualizar: 130\n",
      "\n",
      "------------------------------------------\n",
      "\n",
      "El corte/slice 130 sera visualizado\n",
      "\n",
      "------------------------------------------\n"
     ]
    }
   ],
   "source": [
    "# Le indicamos al usuario que ingrese el corte/slice que desea extraer del\n",
    "# volumen seleccionado\n",
    "\n",
    "# Definimos los inputs de la funcion 'ingresar_corte'\n",
    "name = 'mask_csf'\n",
    "vol_in = 0 # volumen inicial --> v_ini\n",
    "vol_fin = form_mask_csf[2] # volumen final --> v_fin\n",
    "\n",
    "# Usamos funcion\n",
    "cor_sel = ingresar_corte(name,vol_in,vol_fin)"
   ]
  },
  {
   "cell_type": "markdown",
   "id": "9b3132f2",
   "metadata": {},
   "source": [
    "## Visualizamos los cortes"
   ]
  },
  {
   "cell_type": "code",
   "execution_count": 43,
   "id": "4d49827a",
   "metadata": {},
   "outputs": [
    {
     "data": {
      "image/png": "[encoded data removed]",
      "text/plain": [
       "<Figure size 1080x1080 with 3 Axes>"
      ]
     },
     "metadata": {},
     "output_type": "display_data"
    }
   ],
   "source": [
    "'''\n",
    "corte coronal\n",
    "'''\n",
    "coro_csf = mask_csf[:, :,cor_sel]\n",
    "\n",
    "\n",
    "#rotada\n",
    "coro_csf_r = ndimage.rotate(coro_csf, -90, reshape=True)\n",
    "\n",
    "\n",
    "'''\n",
    "corte sagital\n",
    "'''\n",
    "sagi_csf = mask_csf[cor_sel,:, :]\n",
    "\n",
    "\n",
    "#rotada\n",
    "sagi_csf_r = ndimage.rotate(sagi_csf, 0, reshape=True)\n",
    "\n",
    "\n",
    "'''\n",
    "corte transversal\n",
    "'''\n",
    "tran_csf = mask_csf[:,cor_sel, :]\n",
    "\n",
    "#rotada\n",
    "tran_csf_r = ndimage.rotate(tran_csf, 90, reshape=True)\n",
    "\n",
    "\n",
    "\n",
    "'''\n",
    "Mostramos las imagenes\n",
    "'''\n",
    "\n",
    "fig = plt.figure(figsize=(15, 15))\n",
    "plt.subplot(3,1,1)\n",
    "plt.imshow(coro_csf_r,cmap='gray')\n",
    "plt.title('Mascara Liquido Cefalorraquideo \\n\\n coronal')\n",
    "plt.axis('off')\n",
    "plt.subplot(3,1,2)\n",
    "plt.imshow(sagi_csf_r,cmap='gray')\n",
    "plt.title('sagital')\n",
    "plt.axis('off')\n",
    "plt.subplot(3,1,3)\n",
    "plt.imshow(tran_csf_r,cmap='gray')\n",
    "plt.title('trasnversal')\n",
    "plt.axis('off')\n",
    "fig.patch.set_facecolor('xkcd:white')\n",
    "plt.show()"
   ]
  },
  {
   "cell_type": "code",
   "execution_count": 44,
   "id": "b7358f2b",
   "metadata": {},
   "outputs": [
    {
     "data": {
      "text/plain": [
       "0.0"
      ]
     },
     "execution_count": 44,
     "metadata": {},
     "output_type": "execute_result"
    }
   ],
   "source": [
    "np.amin(mask_csf)"
   ]
  },
  {
   "cell_type": "code",
   "execution_count": 45,
   "id": "9244adfc",
   "metadata": {},
   "outputs": [
    {
     "data": {
      "text/plain": [
       "1.0"
      ]
     },
     "execution_count": 45,
     "metadata": {},
     "output_type": "execute_result"
    }
   ],
   "source": [
    "np.amax(mask_csf)"
   ]
  },
  {
   "cell_type": "markdown",
   "id": "58eca330",
   "metadata": {},
   "source": [
    "# FIN"
   ]
  }
 ],
 "metadata": {
  "kernelspec": {
   "display_name": "Python 3 (ipykernel)",
   "language": "python",
   "name": "python3"
  },
  "language_info": {
   "codemirror_mode": {
    "name": "ipython",
    "version": 3
   },
   "file_extension": ".py",
   "mimetype": "text/x-python",
   "name": "python",
   "nbconvert_exporter": "python",
   "pygments_lexer": "ipython3",
   "version": "3.9.7"
  },
  "nbTranslate": {
   "displayLangs": [
    "*"
   ],
   "hotkey": "alt-t",
   "langInMainMenu": true,
   "sourceLang": "en",
   "targetLang": "fr",
   "useGoogleTranslate": true
  },
  "toc": {
   "base_numbering": 1,
   "nav_menu": {},
   "number_sections": true,
   "sideBar": true,
   "skip_h1_title": false,
   "title_cell": "Table of Contents",
   "title_sidebar": "Contents",
   "toc_cell": false,
   "toc_position": {},
   "toc_section_display": true,
   "toc_window_display": false
  },
  "varInspector": {
   "cols": {
    "lenName": 16,
    "lenType": 16,
    "lenVar": 40
   },
   "kernels_config": {
    "python": {
     "delete_cmd_postfix": "",
     "delete_cmd_prefix": "del ",
     "library": "var_list.py",
     "varRefreshCmd": "print(var_dic_list())"
    },
    "r": {
     "delete_cmd_postfix": ") ",
     "delete_cmd_prefix": "rm(",
     "library": "var_list.r",
     "varRefreshCmd": "cat(var_dic_list()) "
    }
   },
   "types_to_exclude": [
    "module",
    "function",
    "builtin_function_or_method",
    "instance",
    "_Feature"
   ],
   "window_display": false
  }
 },
 "nbformat": 4,
 "nbformat_minor": 5
}
